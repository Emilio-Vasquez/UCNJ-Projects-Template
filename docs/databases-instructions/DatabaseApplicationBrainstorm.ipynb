{
  "nbformat": 4,
  "nbformat_minor": 0,
  "metadata": {
    "colab": {
      "provenance": []
    },
    "kernelspec": {
      "name": "python3",
      "display_name": "Python 3"
    },
    "language_info": {
      "name": "python"
    }
  },
  "cells": [
    {
      "cell_type": "markdown",
      "source": [
        "# **Database Web Application Project**\n",
        "\n",
        "## **Objectives:**\n",
        "\n",
        "All of you, **as a team** will design and develop a **database-driven web application** that allows users to interact with stored data through web interface. The backend **must be** implemented in **either Java or Python (Flask/Django frameworks)**.\n",
        "\n",
        "This **project** will test your ability to:\n",
        "- **Research and implement** code into real-world applications\n",
        "- **Connect and protect** a backend application to your cloud database.\n",
        "- Perform **Create, Read, Update, and Delete** operations (CRUD operations).\n",
        "- **Develop** a simple front-end interface for user interactions (I've mentioned this before, and I'll mention it again, I do not care about the styling of the pages as much as the logic).\n",
        "\n",
        "## **Project Requirements**\n",
        "\n",
        "Each group member **must research and propose** their idea for a web application.\n",
        "- **Students must come to a concensus on the idea they'll develop** and that idea **must be approved by me, before starting.**\n",
        "- Will need to research for a free web cloud service that's SQL based, and let's everyone connect.\n",
        "- Will need to research how to **create an Entity-Relationship Diagram** (ERD Diagram) before implementing the database.\n",
        "- The **database must include at least 5 related tables**.\n",
        "- Each table should have a **primary key and at least one foreign key**.\n",
        "- You should enforce **data integrity** using constraints (like `NOT NULL`, `UNIQUE`, `CHECK`).\n",
        "- Use proper **data types** based on the type of information that you will store.\n",
        "\n",
        "### **Backend Implementation:**\n",
        "\n",
        "**Java or Python:**\n",
        "- You may use Java (spring boot) or Python (flask/django).\n",
        "- You must research and implement **RESTful API** with the following endpoints:\n",
        "  - **POST /add_item** to insert data into the database\n",
        "  - **GET /view_items** to retrieve data from your database or the front-end from users.\n",
        "  - **PUT /update_item** to update exisiting records.\n",
        "  - **DELETE /delete_item** to remove a record from your table.\n",
        "\n",
        "### **Frontend**\n",
        "\n",
        "The website should have:\n",
        "- A **homepage** displaying key features.\n",
        "- **Forms** to insert new records.\n",
        "- A **table or list** displaying data retrieved from the database.\n",
        "- Basic **nevigation (buttons, links, tabs)**\n",
        "\n",
        "### **Team Collaboration & Version Control:**\n",
        "\n",
        "The team **must use Github** for their repo, and **Git** for their version control.\n",
        "- Each member must contribute, **I will assign additional tasks based on the project the team picks**.\n",
        "- Implement **branching & merging** workflows.\n",
        "- The **rubric for grading will be handed out after the project idea has been selected**"
      ],
      "metadata": {
        "id": "S4fvZm4TZKvk"
      }
    },
    {
      "cell_type": "code",
      "execution_count": null,
      "metadata": {
        "id": "qvpPuRe0ZIeH"
      },
      "outputs": [],
      "source": []
    }
  ]
}